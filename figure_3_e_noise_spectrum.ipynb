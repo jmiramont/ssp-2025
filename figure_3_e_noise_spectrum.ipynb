{
 "cells": [
  {
   "cell_type": "code",
   "execution_count": 1,
   "metadata": {},
   "outputs": [],
   "source": [
    "import numpy as np\n",
    "from src.utilities.utils import babble_noise\n",
    "import scipy.signal as sg\n",
    "from scipy.fft import fft\n",
    "import matplotlib.pyplot as plt\n",
    "import os"
   ]
  },
  {
   "cell_type": "code",
   "execution_count": 2,
   "metadata": {},
   "outputs": [
    {
     "name": "stderr",
     "output_type": "stream",
     "text": [
      "/tmp/ipykernel_15934/2490379303.py:15: UserWarning: set_ticklabels() should only be used with a fixed number of ticks, i.e. after set_ticks() or using a FixedLocator.\n",
      "  ax.set_yticklabels(ax.get_yticklabels(), fontsize=6.0)\n",
      "/tmp/ipykernel_15934/2490379303.py:16: UserWarning: set_ticklabels() should only be used with a fixed number of ticks, i.e. after set_ticks() or using a FixedLocator.\n",
      "  ax.set_xticklabels(ax.get_xticklabels(), fontsize=6.0)\n"
     ]
    },
    {
     "data": {
      "image/png": "[encoded data removed]",
      "text/plain": [
       "<Figure size 140x140 with 1 Axes>"
      ]
     },
     "metadata": {},
     "output_type": "display_data"
    }
   ],
   "source": [
    "N = 8192\n",
    "np.random.seed(0)\n",
    "x = babble_noise(N,)\n",
    "x /= np.sum(x**2)\n",
    "f, Pxx_spec = sg.welch(x, 1, 'flattop', N//8, scaling='spectrum')\n",
    "fig, ax = plt.subplots(1,1,figsize=(1.4,1.4))\n",
    "ax.semilogy(f, np.sqrt(Pxx_spec))\n",
    "\n",
    "ax.set_xlabel(r'norm. frequency', fontsize=6.0)\n",
    "ax.set_ylabel(r'PSD', fontsize=6.0)\n",
    "ax.set_title(r'Babble noise spectrum', fontsize=7.0)\n",
    "\n",
    "ax.set_xlim([0, 0.5])\n",
    "ax.set_ylim([1e-6,1e-3])\n",
    "ax.set_yticklabels(ax.get_yticklabels(), fontsize=6.0)\n",
    "ax.set_xticklabels(ax.get_xticklabels(), fontsize=6.0)\n",
    "\n",
    "ax.grid(True)\n",
    "plt.show()\n",
    "\n",
    "\n",
    "filename = os.path.join('figures/spectrum_babble.pdf')\n",
    "fig.savefig(filename, \n",
    "        dpi=900, \n",
    "        transparent=False, \n",
    "        bbox_inches='tight',\n",
    "        pad_inches=0.01,\n",
    "    )    "
   ]
  }
 ],
 "metadata": {
  "kernelspec": {
   "display_name": ".venv",
   "language": "python",
   "name": "python3"
  },
  "language_info": {
   "codemirror_mode": {
    "name": "ipython",
    "version": 3
   },
   "file_extension": ".py",
   "mimetype": "text/x-python",
   "name": "python",
   "nbconvert_exporter": "python",
   "pygments_lexer": "ipython3",
   "version": "3.10.12"
  },
  "orig_nbformat": 4
 },
 "nbformat": 4,
 "nbformat_minor": 2
}
