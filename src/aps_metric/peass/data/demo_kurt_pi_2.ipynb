{
 "cells": [
  {
   "cell_type": "code",
   "execution_count": 1,
   "metadata": {},
   "outputs": [],
   "source": [
    "# Import useful modules:\n",
    "import numpy as np\n",
    "from matplotlib import pyplot as plt\n",
    "# from IPython.display import Audio\n",
    "import scipy.signal as sg\n",
    "import scipy.io\n",
    "import librosa"
   ]
  },
  {
   "cell_type": "code",
   "execution_count": 2,
   "metadata": {},
   "outputs": [],
   "source": [
    "# Functions to compute the target activity\n",
    "def tkeo(x):\n",
    "    m=1\n",
    "    M=1\n",
    "    y = np.zeros_like(x)\n",
    "    for n in range(M,len(x)-M):\n",
    "        y[n] = x[n]**(2/m) - (x[int(n-M)]*x[int(n+M)])**(1/m)\n",
    "        # y[n] = x[n]*x[n+m-2]-x[n-1]*x[n+m-1]\n",
    "    return y\n",
    "\n",
    "def activity(x):\n",
    "    y = np.abs(tkeo(x))\n",
    "    y = y/np.max(y)\n",
    "    y[y>np.quantile(y,0.9)] = 1\n",
    "    y[y<=np.quantile(y,0.9)] = 0\n",
    "    # y[y>np.std(y)] = 1\n",
    "    # y[y<=np.std(y)] = 0\n",
    "    y = y.astype(bool)\n",
    "    return y    \n",
    "\n",
    "# Spectral Kurtosis\n",
    "def spectral_kurt(X):\n",
    "    eps=1e-15\n",
    "    bar_X = np.mean(X,axis=0)\n",
    "    diff = X-bar_X\n",
    "    numerator = np.mean(diff**4,axis=0)\n",
    "    denominator= np.mean(diff**2,axis=0)**2\n",
    "    kurtX = numerator/(denominator+eps)\n",
    "    return kurtX    \n",
    "\n",
    "# (2) Musical Noise measurement: Perceptually Improved Log-Kurtosis Ratio\n",
    "def compute_Xplus(x,fs,pthr=0.05):\n",
    "    eps = 1e-15\n",
    "    wl = 1024\n",
    "    stft = librosa.stft(x, window='cosine', n_fft=2*wl, win_length=wl, hop_length=wl//2)\n",
    "    X_dBA = np.abs(stft)**2\n",
    "    f = np.linspace(0,fs/2,X_dBA.shape[0])\n",
    "\n",
    "    # Get the dBA\n",
    "    Aw = 10**(librosa.A_weighting(f)/10)\n",
    "\n",
    "    for col in range(X_dBA.shape[1]):\n",
    "        X_dBA[:,col] = X_dBA[:,col] * Aw\n",
    "    \n",
    "    PdBA = 10*np.log10(np.mean(np.mean(X_dBA,axis=0))+eps)\n",
    "    X_dBA = 10*np.log10(X_dBA+eps)    \n",
    "\n",
    "    thr = PdBA-20\n",
    "    Xplus = X_dBA-thr\n",
    "    Xplus[Xplus<0] = 0\n",
    "\n",
    "    # Check frames where the energy is 0 for all frequencies to remove them later.\n",
    "    ind_frames = np.sum(Xplus, axis=0) > 0\n",
    "    \n",
    "    # Get sub-bands:\n",
    "    Xplus_subb = list()\n",
    "\n",
    "    # Band 1: Between 50Hz and 750Hz\n",
    "    fb1 = np.logical_and(f > 50, f <= 750)\n",
    "    Xplus_subb.append(Xplus[fb1,:])\n",
    "\n",
    "    # Band 2: Between 50Hz and 750Hz\n",
    "    fb2 = np.logical_and(f > 750, f <= 6000)\n",
    "    Xplus_subb.append(Xplus[fb2,:])\n",
    "\n",
    "    # Band 3: Between 50Hz and 750Hz\n",
    "    fb3 = np.logical_and(f > 6000, f <= np.min([f[-1],16000]))\n",
    "    Xplus_subb.append(Xplus[fb3,:])\n",
    "\n",
    "    return Xplus_subb, ind_frames\n",
    "\n",
    "def perceptual_kurt_ratio(xi,xo,fs,act=None):\n",
    "    # Resample and normalize signals:\n",
    "    xi_rs = sg.resample(xi,int(len(xi)*48000/fs))\n",
    "    xo_rs = sg.resample(xo,int(len(xo)*48000/fs))\n",
    "    xo_rs = xo_rs / np.max(np.abs(xo_rs))\n",
    "    xi_rs = xi_rs / np.max(np.abs(xi_rs))\n",
    "\n",
    "    # Only consider the segments where the target is not active.\n",
    "    xi_rs = xi_rs*act\n",
    "    xo_rs = xo_rs*act\n",
    "    xi_rs = xi_rs[act>0]\n",
    "    xo_rs = xo_rs[act>0]\n",
    "\n",
    "    # Compute X^{+} for three frequency bands.\n",
    "    Xplus_subb_i,idx_i = compute_Xplus(xi_rs,48000)\n",
    "    Xplus_subb_o,idx_o = compute_Xplus(xo_rs,48000)\n",
    "\n",
    "    # Remove frames where the energy is null.\n",
    "    idx = np.logical_and(idx_i,idx_o)\n",
    "    Xplus_subb_i = [X[:,idx_i] for X in Xplus_subb_i]\n",
    "    Xplus_subb_o = [X[:,idx_i] for X in Xplus_subb_o]\n",
    "    \n",
    "    # Compute Spectral Weights for each band\n",
    "    wo = [10*np.log10(np.mean(10**(X/10),axis=0)) for X in Xplus_subb_o]\n",
    "\n",
    "    # Compute Spectral Kurtosis of the subbands\n",
    "    kurt_subb_i = [spectral_kurt(X) for X in Xplus_subb_i]\n",
    "    kurt_subb_o = [spectral_kurt(X) for X in Xplus_subb_o]\n",
    "\n",
    "    # Compute the spectral log-kurtosis ratios for each band\n",
    "    eps = 1e-15\n",
    "    DeltaK_B = []\n",
    "    for i in range(len(kurt_subb_o)):\n",
    "        cociente = kurt_subb_o[i]/(kurt_subb_i[i]+eps)\n",
    "        temp = np.abs(np.log(cociente+eps))\n",
    "        DeltaK_B.append(temp)\n",
    "\n",
    "    # Compute Delta Kurt_PI for each band, select the maximum and normalize.\n",
    "    DeltaK_PI_aux = [np.sum(w*DeltaK)/(np.sum(w)+eps) for w, DeltaK in zip(wo,DeltaK_B)]\n",
    "    band_index = np.nanargmax(DeltaK_PI_aux)\n",
    "    lb = 0.5\n",
    "    DeltaK_B = np.min([DeltaK_PI_aux[band_index],lb])\n",
    "    DeltaK_PI = 100*(1-DeltaK_B/lb)\n",
    "    return DeltaK_PI "
   ]
  },
  {
   "cell_type": "code",
   "execution_count": 3,
   "metadata": {},
   "outputs": [
    {
     "name": "stderr",
     "output_type": "stream",
     "text": [
      "c:\\Users\\juan_\\Nextcloud\\Miramont_Juan\\python_code\\benchmark-mn\\.venv\\lib\\site-packages\\librosa\\core\\convert.py:1332: RuntimeWarning: divide by zero encountered in log10\n",
      "  + 2 * np.log10(f_sq)\n"
     ]
    }
   ],
   "source": [
    "# Import the files from the PEASS dataset and apply the measure.\n",
    "from scipy.io import wavfile\n",
    "DKPI = np.zeros((6,4))\n",
    "for k,file_num in enumerate([3,5,6,7,8,9]):\n",
    "    \n",
    "    #Import the target signal.\n",
    "    filename = 'exp0{}_target.wav'.format(file_num)\n",
    "    fs, x_target = wavfile.read(filename)  \n",
    "    x_target = x_target[:,0]/np.max(np.abs(x_target[:,0]))\n",
    "    x_target = sg.resample_poly(x_target,48000,fs)\n",
    "    x_target = x_target / np.max(np.abs(x_target))\n",
    "\n",
    "    # Compute the target activity\n",
    "    act = activity(x_target)\n",
    "    act = np.invert(act)\n",
    "\n",
    "    # exp0{}_input.wav has all the influences summed to the target.\n",
    "    filename = 'exp0{}_input.wav'.format(file_num)\n",
    "    fs, xi = wavfile.read(filename)\n",
    "    xi = xi[:,0]/np.max(np.abs(xi[:,0]))\n",
    "    xi = sg.resample(xi,int(len(xi)*48000/fs)) \n",
    "    xi = xi / np.max(np.abs(xi))\n",
    "\n",
    "    for j in range(4):\n",
    "        filename = 'exp0{}_test{}.wav'.format(file_num,j+5)\n",
    "        fs, xo = wavfile.read(filename)  \n",
    "        xo = xo[:,0]/np.max(np.abs(xo[:,0]))\n",
    "        xo = sg.resample_poly(xo,48000,fs)\n",
    "        xo = xo / np.max(np.abs(xo))\n",
    "    \n",
    "        DKPI[k,j] = perceptual_kurt_ratio(xi,xo,act=act,fs=48000)"
   ]
  },
  {
   "cell_type": "code",
   "execution_count": 4,
   "metadata": {},
   "outputs": [],
   "source": [
    "# Import a .mat file from Matlab where I saved the APS values and the subjective scores.\n",
    "data_peass = scipy.io.loadmat('data_peass.mat')\n",
    "APS = data_peass['APS']\n",
    "scores_AIA = data_peass['scores_AIA']\n",
    "a = np.resize(DKPI,(DKPI.size,))\n",
    "b = np.resize(APS,(APS.size,))\n",
    "c = np.corrcoef(a,b)"
   ]
  },
  {
   "cell_type": "code",
   "execution_count": 5,
   "metadata": {},
   "outputs": [
    {
     "name": "stdout",
     "output_type": "stream",
     "text": [
      "0.7678125065752976\n"
     ]
    },
    {
     "data": {
      "image/png": "[encoded data removed]",
      "text/plain": [
       "<Figure size 900x400 with 2 Axes>"
      ]
     },
     "metadata": {},
     "output_type": "display_data"
    }
   ],
   "source": [
    "# Plot everything\n",
    "import matplotlib.pyplot as plt\n",
    "fig, axs = plt.subplots(1,2,figsize=(9,4))\n",
    "for i in range(4):\n",
    "    axs[0].plot(scores_AIA[:,i],APS[:,i],'o')\n",
    "axs[0].set_xlim([0,100])\n",
    "axs[0].set_ylim([20,90])\n",
    "axs[0].set_xlabel('Subjective Score')\n",
    "axs[0].set_ylabel('APS')\n",
    "axs[0].grid(True)\n",
    "for i in range(4):\n",
    "    axs[1].plot(scores_AIA[:,i],DKPI[:,i],'o')\n",
    "axs[1].set_xlim([0,100])\n",
    "axs[1].set_ylim([0,100])\n",
    "axs[1].set_xlabel('Subjective Score')\n",
    "axs[1].set_ylabel(r'$\\Delta kurt_{PI}$')\n",
    "axs[1].grid(True)\n",
    "print(c[0,1])\n",
    "plt.show()\n"
   ]
  }
 ],
 "metadata": {
  "kernelspec": {
   "display_name": ".venv",
   "language": "python",
   "name": "python3"
  },
  "language_info": {
   "codemirror_mode": {
    "name": "ipython",
    "version": 3
   },
   "file_extension": ".py",
   "mimetype": "text/x-python",
   "name": "python",
   "nbconvert_exporter": "python",
   "pygments_lexer": "ipython3",
   "version": "3.9.13"
  },
  "orig_nbformat": 4,
  "vscode": {
   "interpreter": {
    "hash": "e6cb65451a967f8349ac2d3145f075d26e368282be1a7f038d09e6916f05a4ee"
   }
  }
 },
 "nbformat": 4,
 "nbformat_minor": 2
}
