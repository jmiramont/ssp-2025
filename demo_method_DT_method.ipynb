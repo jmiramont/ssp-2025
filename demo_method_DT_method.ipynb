{
 "cells": [
  {
   "cell_type": "markdown",
   "metadata": {},
   "source": [
    "# MWE: Denoising by Delaunay triangulation on zeros"
   ]
  },
  {
   "cell_type": "code",
   "execution_count": 1,
   "metadata": {},
   "outputs": [],
   "source": [
    "import numpy as np\n",
    "from numpy import pi as pi\n",
    "import matplotlib.pyplot as plt\n",
    "from src.utilities.utils import one_sided_spectrogram_and_zeros\n",
    "from mcsm_benchs.SignalBank import SignalBank\n",
    "from mcsm_benchs.Benchmark import Benchmark\n",
    "from src.methods.method_delaunay_triangulation import delaunay_triangulation_denoising\n",
    "from src.utilities.scale_functions import scale_fun_APF, scale_fun_Fvs\n",
    "\n",
    "from src.stft_wrap.stft_wrapper import compute_spectrogram_and_zeros, compute_istft\n",
    "\n",
    "from IPython.display import Audio"
   ]
  },
  {
   "cell_type": "code",
   "execution_count": 2,
   "metadata": {},
   "outputs": [],
   "source": [
    "np.random.seed(1) \n",
    "N = 2**13\n",
    "sbank = SignalBank(N=N, return_signal=False)\n",
    "# tmin = sbank.tmin\n",
    "# tmax = sbank.tmax\n",
    "# s = sbank.signal_linear_chirp(a=1.5,b=0.1)\n",
    "s = sbank.signal_mc_impulses(5)\n",
    "\n",
    "s = sbank.signal_mc_synthetic_mixture_3()\n",
    "# t = np.arange(N)\n",
    "# s1 = np.cos(2*pi*0.25*t)\n",
    "# ssum = np.sum(s1**2)\n",
    "# s2 = np.zeros_like(s1)\n",
    "# s2[N//2]= ssum**0.5\n",
    "\n",
    "# s = s1+s2\n",
    "\n",
    "# import librosa\n",
    "# s, fs = librosa.load(librosa.ex('trumpet'), duration=1.5, sr=8000)\n",
    "# s = s[0:N]"
   ]
  },
  {
   "cell_type": "code",
   "execution_count": 3,
   "metadata": {},
   "outputs": [],
   "source": [
    "SNRin = 15\n",
    "noise = np.random.randn(N,)\n",
    "signal = Benchmark.sigmerge(s,noise,SNRin, )"
   ]
  },
  {
   "cell_type": "code",
   "execution_count": 4,
   "metadata": {},
   "outputs": [],
   "source": [
    "Nfft=2*N\n",
    "output = delaunay_triangulation_denoising(signal,\n",
    "                                Nfft=Nfft,\n",
    "                                return_dic=True,\n",
    "                                grouping = False,\n",
    "                                # scale_fun=scale_fun_APF,\n",
    "                                LB = 1.85,\n",
    "                                mcsim_path='src/utilities/simulations',\n",
    "                                )                               \n",
    "\n",
    "signal_output, mask, tri, tri_select, zeros = ( output[key] for key in \n",
    "                                    ('s_r','mask','tri','tri_select','zeros')\n",
    "                                    )"
   ]
  },
  {
   "cell_type": "code",
   "execution_count": 5,
   "metadata": {},
   "outputs": [
    {
     "data": {
      "text/plain": [
       "[<matplotlib.lines.Line2D at 0x733b34147c40>]"
      ]
     },
     "execution_count": 5,
     "metadata": {},
     "output_type": "execute_result"
    },
    {
     "data": {
      "image/png": "[encoded data removed]",
      "text/plain": [
       "<Figure size 640x480 with 1 Axes>"
      ]
     },
     "metadata": {},
     "output_type": "display_data"
    }
   ],
   "source": [
    "plt.plot(s)\n",
    "plt.plot(signal_output,'--', alpha=0.4)\n",
    "# plt.plot(rsignal[200:300],'k--')"
   ]
  },
  {
   "cell_type": "code",
   "execution_count": 6,
   "metadata": {},
   "outputs": [],
   "source": [
    "# S,_,F = one_sided_spectrogram_and_zeros(s)\n",
    "# S_output,_,F_output = one_sided_spectrogram_and_zeros(s)\n",
    "\n",
    "# fig, ax = plt.subplots(1,3,figsize = (15,10))\n",
    "# # [ax.axis('off') for ax in ax]\n",
    "# ax[0].imshow(abs(F), origin='lower')\n",
    "# ax[0].set_title('Input Signal')\n",
    "# ax[1].imshow(abs(F_output), origin='lower')\n",
    "# ax[1].set_title('Output Signal')\n",
    "# ax[2].imshow(mask, origin='lower')\n",
    "# ax[2].set_title('Mask')\n",
    "# plt.show()"
   ]
  },
  {
   "cell_type": "code",
   "execution_count": 7,
   "metadata": {},
   "outputs": [
    {
     "name": "stdout",
     "output_type": "stream",
     "text": [
      "23.947219486864736\n"
     ]
    }
   ],
   "source": [
    "tmin = int(np.sqrt(Nfft))\n",
    "tmax = N-tmin\n",
    "print(Benchmark.snr_comparison(s,signal_output,tmin=tmin,tmax=tmax))\n",
    "# print(Benchmark.snr_comparison(s,rsignal,tmin=tmin,tmax=tmax))"
   ]
  },
  {
   "cell_type": "code",
   "execution_count": null,
   "metadata": {},
   "outputs": [],
   "source": [
    "plt.rc('text', usetex=True)\n",
    "plt.rc('font', family='serif')\n",
    "\n",
    "fig, ax = plt.subplots(1,1)\n",
    "# ax.imshow(abs(F_output)**2, origin='lower', aspect='auto')#, cmap=cmocean.cm.deep)\n",
    "ax.imshow(abs(mask)**2, origin='lower', aspect='auto')\n",
    "ax.plot([200,200],[200, 550],'r--')\n",
    "ax.plot([200,450],[200, 200],'r--')\n",
    "ax.plot([450,450],[200, 550],'r--')\n",
    "ax.plot([200,450],[550, 550],'r--')\n",
    "ax.set_ylabel('frequency', fontsize=6)\n",
    "ax.set_xlabel('time', fontsize=6)\n",
    "ax.tick_params(axis='both', which='both', bottom=False, top=False, \n",
    "                    labelbottom=False, right=False, left=False, labelleft=False)\n",
    "\n",
    "\n",
    "plt.show()\n",
    "# fig.savefig('figures/errors_dt_panel_1.pdf', dpi=900, transparent=False, bbox_inches='tight', \n",
    "#             pad_inches=0.01)\n"
   ]
  }
 ],
 "metadata": {
  "kernelspec": {
   "display_name": ".venv",
   "language": "python",
   "name": "python3"
  },
  "language_info": {
   "codemirror_mode": {
    "name": "ipython",
    "version": 3
   },
   "file_extension": ".py",
   "mimetype": "text/x-python",
   "name": "python",
   "nbconvert_exporter": "python",
   "pygments_lexer": "ipython3",
   "version": "3.10.12"
  },
  "orig_nbformat": 4,
  "vscode": {
   "interpreter": {
    "hash": "3d67d1a14cd19c7bc615dc945d79494898891fe84f5bade29df784dd07b18bfd"
   }
  }
 },
 "nbformat": 4,
 "nbformat_minor": 2
}
