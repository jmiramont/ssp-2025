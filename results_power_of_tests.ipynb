{
 "cells": [
  {
   "cell_type": "markdown",
   "metadata": {},
   "source": [
    "# Displaying results for the signal detection benchmark\n",
    "\n",
    "This notebooks loads the results of the benchmark and generates the figures shown in the paper."
   ]
  },
  {
   "cell_type": "code",
   "execution_count": 1,
   "metadata": {},
   "outputs": [],
   "source": [
    "from mcsm_benchs.Benchmark import Benchmark\n",
    "from mcsm_benchs.ResultsInterpreter import ResultsInterpreter\n",
    "from mcsm_benchs.SignalBank import SignalBank\n",
    "\n",
    "import scipy.stats as spst\n",
    "from mpl_toolkits.axes_grid1.inset_locator import inset_axes\n",
    "import numpy as np\n",
    "from numpy import pi as pi\n",
    "import scipy.signal as sg\n",
    "import matplotlib.pyplot as plt\n",
    "from src.utilities.utilstf import get_spectrogram\n",
    "import os\n",
    "\n",
    "plt.rcParams['xtick.labelsize'] = 6.0\n",
    "plt.rcParams['ytick.labelsize'] = 6.0\n",
    "plt.rcParams['axes.labelsize'] =  7.0\n",
    "# plt.rcParams['axes.title'] =  \n",
    "plt.rc('axes', axisbelow=True)\n"
   ]
  },
  {
   "cell_type": "code",
   "execution_count": 2,
   "metadata": {},
   "outputs": [],
   "source": [
    "# Load benchmark with detection results\n",
    "filename = os.path.join('results','benchmark_detection_1024')\n",
    "benchmark = Benchmark.load_benchmark(filename)"
   ]
  },
  {
   "cell_type": "code",
   "execution_count": 3,
   "metadata": {},
   "outputs": [
    {
     "name": "stdout",
     "output_type": "stream",
     "text": [
      "['APF' 'global_mad_test' 'global_rank_env_test' 'monte_carlo_test']\n"
     ]
    }
   ],
   "source": [
    "# Load interpreter.\n",
    "interpreter = ResultsInterpreter(benchmark)\n",
    "df = interpreter.rearrange_data_frame()\n",
    "print(np.unique(df['Method']))"
   ]
  },
  {
   "cell_type": "code",
   "execution_count": 4,
   "metadata": {},
   "outputs": [],
   "source": [
    "# Check DataFrame of results.\n",
    "df = interpreter.rearrange_data_frame()"
   ]
  },
  {
   "cell_type": "code",
   "execution_count": 5,
   "metadata": {},
   "outputs": [],
   "source": [
    "# from plotly.offline import iplot\n",
    "# fig = interpreter.get_summary_plotlys()\n",
    "\n",
    "# for f in fig:\n",
    "#     f.update_layout(yaxis_title='Power', xaxis_title='SNRin (dB)')\n",
    "#     iplot(f)"
   ]
  },
  {
   "cell_type": "code",
   "execution_count": 6,
   "metadata": {},
   "outputs": [],
   "source": [
    "# Use this function for the CP CI shown in the interactive figures using matplotlib:\n",
    "def clopper_pearson(x, alpha=0.05, bonferroni=1):\n",
    "    \"\"\"\n",
    "    Clopper-Pearson confidence interval for Bernoulli parameter\n",
    "    alpha: confidence level\n",
    "    k: number of successes\n",
    "    n: number of observations\n",
    "    \"\"\"\n",
    "    alpha = alpha/bonferroni\n",
    "    n = len(x) # k: number of successes\n",
    "    k = sum(x) # n: number of observations\n",
    "    lb = spst.beta.ppf(alpha/2, k, n-k+1) \n",
    "    ub = spst.beta.ppf(1 - alpha/2, k+1, n-k)\n",
    "    return lb, ub\n",
    "\n",
    "cp_ci = lambda x: clopper_pearson(x, alpha=0.05, bonferroni=8)"
   ]
  },
  {
   "cell_type": "code",
   "execution_count": 7,
   "metadata": {},
   "outputs": [],
   "source": [
    "keep_in = [\"{'fun': 'Fest', 'correction': 'rs', 'rmin': 0.65, 'rmax': 1.05, 'transform': 'asin(sqrt(.))'}\",\n",
    "           \"{'fun': 'Fest', 'correction': 'rs', 'rmin': 0.65, 'rmax': 1.05}\",\n",
    "           \"{'statistic': 'Frs', 'MC_reps': 199}\",\n",
    "           \"{'statistic': 'Frs_vs', 'MC_reps': 199}\",\n",
    "           '((), {})'\n",
    "           ]"
   ]
  },
  {
   "cell_type": "code",
   "execution_count": 8,
   "metadata": {},
   "outputs": [],
   "source": [
    "df = df[df['Parameter'].isin(keep_in)]"
   ]
  },
  {
   "cell_type": "code",
   "execution_count": 9,
   "metadata": {},
   "outputs": [
    {
     "data": {
      "text/plain": [
       "array(['APF', 'global_mad_test', 'global_rank_env_test'], dtype=object)"
      ]
     },
     "execution_count": 9,
     "metadata": {},
     "output_type": "execute_result"
    }
   ],
   "source": [
    "np.unique(df['Method'])"
   ]
  },
  {
   "cell_type": "code",
   "execution_count": null,
   "metadata": {},
   "outputs": [
    {
     "name": "stdout",
     "output_type": "stream",
     "text": [
      "LinearChirp\n"
     ]
    },
    {
     "data": {
      "image/png": "[encoded data removed]",
      "text/plain": [
       "<Figure size 370x100 with 2 Axes>"
      ]
     },
     "metadata": {},
     "output_type": "display_data"
    },
    {
     "data": {
      "text/plain": [
       "<Figure size 370x25 with 0 Axes>"
      ]
     },
     "metadata": {},
     "output_type": "display_data"
    }
   ],
   "source": [
    "# Set figure size (in inches):\n",
    "fig_size_w = 3.7\n",
    "fig_size_h = 1.0\n",
    "errbar_params = {'err_kws' : {'linewidth':0.75,}, 'capsize':0.5,}\n",
    "figs = interpreter.get_summary_plots(   df_rearr=df,\n",
    "                                        size = (fig_size_w,fig_size_h),\n",
    "                                        # filter_crit='any',\n",
    "                                        # filter_str=['global',\"'pnorm': 2, 'rmax': 1.0,\",],\n",
    "                                        errbar_fun=cp_ci, \n",
    "                                        savetofile=False, \n",
    "                                        plot_type='bars',\n",
    "                                        errbar_params=errbar_params)\n",
    "for i, fig in enumerate(figs):\n",
    "    # Get signal the signal for each figure and compute spectrogram\n",
    "    ax = fig.axes[0]\n",
    "    s = benchmark.signal_dic['LinearChirp']\n",
    "    S, stft  = get_spectrogram(s)\n",
    "    ax = fig.axes[0]\n",
    "\n",
    "    # Set inset axis with the spectrogram of the signal\n",
    "    axins = inset_axes(ax, width=0.4, height=0.4, loc=2)\n",
    "    axins.imshow(S, origin='lower')\n",
    "    axins.axis('off')\n",
    "    fig.canvas.draw()\n",
    "    axins.tick_params(axis='both', which='both', bottom=False, top=False, labelbottom=False, right=False, left=False, labelleft=False)\n",
    "\n",
    "    #Uncomment to remove legends from figure (they are print in another figure)\n",
    "    ax.get_legend().remove()\n",
    "    \n",
    "    ax.set_title('')\n",
    "    ax.set_ylim((0,1.05))\n",
    "    fig.canvas.draw()\n",
    "    \n",
    "    # Save figure\n",
    "    # filename = os.path.join('figures','power_'+str(i)+'_N_{}.pdf'.format(interpreter.N))\n",
    "    # fig.savefig(filename, dpi=900, transparent=False, bbox_inches='tight')\n",
    "\n",
    "# Fix new legends for a different figure\n",
    "new_legends = [\n",
    "            r\"APF\",    \n",
    "            r'Global MAD-$F$',\n",
    "            r'Global MAD-$\\widetilde{F}$',\n",
    "            r'Rank-$\\widetilde{F}$',\n",
    "            r'Rank-$F$',\n",
    "            ]\n",
    "\n",
    "\n",
    "# Get legends in a different figure\n",
    "legendFig = plt.figure()\n",
    "legendFig.set_size_inches((fig_size_w,0.25))\n",
    "\n",
    "h,_ = figs[0].axes[0].get_legend_handles_labels()\n",
    "legendFig.legend(h, new_legends, fontsize='small', frameon=False, loc='center', ncol=5)\n",
    "legendFig.canvas.draw()\n",
    "\n",
    "# Save figure with legends\n",
    "# filename = os.path.join('figures','legend_power.pdf')\n",
    "# legendFig.savefig(filename, dpi=900, transparent=False, bbox_inches='tight')\n",
    "\n",
    "plt.show()"
   ]
  }
 ],
 "metadata": {
  "kernelspec": {
   "display_name": ".venv",
   "language": "python",
   "name": "python3"
  },
  "language_info": {
   "codemirror_mode": {
    "name": "ipython",
    "version": 3
   },
   "file_extension": ".py",
   "mimetype": "text/x-python",
   "name": "python",
   "nbconvert_exporter": "python",
   "pygments_lexer": "ipython3",
   "version": "3.10.12"
  },
  "orig_nbformat": 4
 },
 "nbformat": 4,
 "nbformat_minor": 2
}
